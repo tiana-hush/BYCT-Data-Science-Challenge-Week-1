{
 "cells": [
  {
   "cell_type": "markdown",
   "id": "32e1cf98",
   "metadata": {},
   "source": [
    "# Q3: Broadcasting Broadcast Buster:\n",
    "Write a function safe_add(arr1, arr2) that adds two NumPy arrays and handles potential broadcasting issues gracefully. The function should raise a specific error message if the shapes of the arrays are incompatible for addition."
   ]
  },
  {
   "cell_type": "code",
   "execution_count": 38,
   "id": "280e0949",
   "metadata": {},
   "outputs": [],
   "source": [
    "import numpy as np # After installing the necessary librarie for the task, Import to begin "
   ]
  },
  {
   "cell_type": "code",
   "execution_count": 39,
   "id": "904c1e96",
   "metadata": {},
   "outputs": [
    {
     "name": "stdout",
     "output_type": "stream",
     "text": [
      "[ 3  7  9 13]\n"
     ]
    }
   ],
   "source": [
    "arr1 = np.array([2, 3, 4, 5])\n",
    "arr2 = np.array([1, 4, 5,8])\n",
    "\n",
    "def safe_add(arr1, arr2):\n",
    "    # Check if arrays can be broadcasted\n",
    "    try:\n",
    "        result = arr1 + arr2\n",
    "    except ValueError:\n",
    "        raise ValueError(\"Arrays cannot be addition. Check their shapes.\")\n",
    "    \n",
    "    return result\n",
    "try:\n",
    "    print(safe_add(arr1, arr2))  # Output\n",
    "except ValueError as e:\n",
    "    print(e)"
   ]
  },
  {
   "cell_type": "code",
   "execution_count": null,
   "id": "08af29f1",
   "metadata": {},
   "outputs": [],
   "source": []
  }
 ],
 "metadata": {
  "kernelspec": {
   "display_name": "Python 3 (ipykernel)",
   "language": "python",
   "name": "python3"
  },
  "language_info": {
   "codemirror_mode": {
    "name": "ipython",
    "version": 3
   },
   "file_extension": ".py",
   "mimetype": "text/x-python",
   "name": "python",
   "nbconvert_exporter": "python",
   "pygments_lexer": "ipython3",
   "version": "3.10.9"
  }
 },
 "nbformat": 4,
 "nbformat_minor": 5
}
