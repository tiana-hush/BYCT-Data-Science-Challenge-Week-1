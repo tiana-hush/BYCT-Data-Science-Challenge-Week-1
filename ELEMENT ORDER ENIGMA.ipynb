{
 "cells": [
  {
   "cell_type": "markdown",
   "id": "8a4b7174",
   "metadata": {},
   "source": [
    "# Q2: Element Order Enigma: \n",
    "Write a function check_same_elements(arr1, arr2) that takes two NumPy arrays and returns True if both arrays contain the same elements regardless of their order, False otherwise. (Hint: Explore sorting and set comparisons). "
   ]
  },
  {
   "cell_type": "code",
   "execution_count": 2,
   "id": "dc4525ac",
   "metadata": {},
   "outputs": [],
   "source": [
    "import numpy as np # After installing the necessary librarie for the task, Import to begin "
   ]
  },
  {
   "cell_type": "code",
   "execution_count": 3,
   "id": "37f288dd",
   "metadata": {},
   "outputs": [
    {
     "ename": "TypeError",
     "evalue": "array() takes from 1 to 2 positional arguments but 4 were given",
     "output_type": "error",
     "traceback": [
      "\u001b[1;31m---------------------------------------------------------------------------\u001b[0m",
      "\u001b[1;31mTypeError\u001b[0m                                 Traceback (most recent call last)",
      "Cell \u001b[1;32mIn[3], line 1\u001b[0m\n\u001b[1;32m----> 1\u001b[0m arr1 \u001b[38;5;241m=\u001b[39m \u001b[43mnp\u001b[49m\u001b[38;5;241;43m.\u001b[39;49m\u001b[43marray\u001b[49m\u001b[43m(\u001b[49m\u001b[38;5;241;43m2\u001b[39;49m\u001b[43m,\u001b[49m\u001b[38;5;241;43m3\u001b[39;49m\u001b[43m,\u001b[49m\u001b[38;5;241;43m4\u001b[39;49m\u001b[43m,\u001b[49m\u001b[38;5;241;43m5\u001b[39;49m\u001b[43m)\u001b[49m\n\u001b[0;32m      2\u001b[0m arr2 \u001b[38;5;241m=\u001b[39m np\u001b[38;5;241m.\u001b[39marray(\u001b[38;5;241m1\u001b[39m,\u001b[38;5;241m4\u001b[39m,\u001b[38;5;241m5\u001b[39m,\u001b[38;5;241m8\u001b[39m)\n\u001b[0;32m      3\u001b[0m \u001b[38;5;28;01mdef\u001b[39;00m \u001b[38;5;21mcheck_same_elements\u001b[39m(arr1, arr2):\n",
      "\u001b[1;31mTypeError\u001b[0m: array() takes from 1 to 2 positional arguments but 4 were given"
     ]
    }
   ],
   "source": [
    "arr1 = np.array(2,3,4,5)\n",
    "arr2 = np.array(1,4,5,8)\n",
    "def check_same_elements(arr1, arr2):\n",
    "    if arr1 == arr2:\n",
    "        return True\n",
    "    else:\n",
    "        print(False)"
   ]
  },
  {
   "cell_type": "code",
   "execution_count": 4,
   "id": "abf320a5",
   "metadata": {},
   "outputs": [
    {
     "name": "stdout",
     "output_type": "stream",
     "text": [
      "False\n"
     ]
    }
   ],
   "source": [
    "arr1 = np.array([2, 3, 4, 5])  # Use square brackets for elements\n",
    "arr2 = np.array([1, 4, 5, 8])  # Use square brackets for elements\n",
    "\n",
    "def check_same_elements(arr1, arr2):\n",
    "    # Convert arrays to sets and compare\n",
    "    set1 = set(arr1)\n",
    "    set2 = set(arr2)\n",
    "    \n",
    "    if set1 == set2:\n",
    "        return True\n",
    "    else:\n",
    "        return False\n",
    "\n",
    "# Print Result\n",
    "\n",
    "print(check_same_elements(arr1, arr2))"
   ]
  }
 ],
 "metadata": {
  "kernelspec": {
   "display_name": "Python 3 (ipykernel)",
   "language": "python",
   "name": "python3"
  },
  "language_info": {
   "codemirror_mode": {
    "name": "ipython",
    "version": 3
   },
   "file_extension": ".py",
   "mimetype": "text/x-python",
   "name": "python",
   "nbconvert_exporter": "python",
   "pygments_lexer": "ipython3",
   "version": "3.10.9"
  }
 },
 "nbformat": 4,
 "nbformat_minor": 5
}
