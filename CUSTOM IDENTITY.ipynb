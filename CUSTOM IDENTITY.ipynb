{
 "cells": [
  {
   "cell_type": "markdown",
   "id": "bccfc262",
   "metadata": {},
   "source": [
    "# Q1: Identity Twister: \n",
    "Create a function create_custom_identity(size, value, index) that takes three arguments:\n",
    "\n",
    "size: Size of the square identity matrix (e.g., 4).\n",
    "\n",
    "value: The value to insert at the specified index (e.g., 10).\n",
    "\n",
    "index: A tuple representing the index (i, j) for the custom value.\n",
    "\n",
    "The function should return a NumPy array representing the identity matrix with the specified value inserted at the given index."
   ]
  },
  {
   "cell_type": "code",
   "execution_count": 12,
   "id": "f73a3b10",
   "metadata": {},
   "outputs": [],
   "source": [
    "import numpy as np # After installing the necessary librarie for the task, Import to begin "
   ]
  },
  {
   "cell_type": "code",
   "execution_count": 13,
   "id": "64b27fde",
   "metadata": {},
   "outputs": [
    {
     "ename": "NameError",
     "evalue": "name 'size' is not defined",
     "output_type": "error",
     "traceback": [
      "\u001b[1;31m---------------------------------------------------------------------------\u001b[0m",
      "\u001b[1;31mNameError\u001b[0m                                 Traceback (most recent call last)",
      "Cell \u001b[1;32mIn[13], line 5\u001b[0m\n\u001b[0;32m      2\u001b[0m \u001b[38;5;28;01mdef\u001b[39;00m \u001b[38;5;21mcreate_custom_identity\u001b[39m(size, value, index):\n\u001b[0;32m      3\u001b[0m     identity \u001b[38;5;241m=\u001b[39m np\u001b[38;5;241m.\u001b[39meye(size)  \u001b[38;5;66;03m# Create a NumPy identity matrix of the specified size\u001b[39;00m\n\u001b[1;32m----> 5\u001b[0m \u001b[38;5;28;01mif\u001b[39;00m \u001b[38;5;241m0\u001b[39m \u001b[38;5;241m<\u001b[39m\u001b[38;5;241m=\u001b[39m index[\u001b[38;5;241m0\u001b[39m] \u001b[38;5;241m<\u001b[39m \u001b[43msize\u001b[49m \u001b[38;5;129;01mand\u001b[39;00m \u001b[38;5;241m0\u001b[39m \u001b[38;5;241m<\u001b[39m\u001b[38;5;241m=\u001b[39m index [\u001b[38;5;241m1\u001b[39m] \u001b[38;5;241m<\u001b[39m size: \u001b[38;5;66;03m# checks if index is within the valid range (0 to size-1) ELSE \u001b[39;00m\n\u001b[0;32m      6\u001b[0m     identity[index[\u001b[38;5;241m0\u001b[39m], index[\u001b[38;5;241m1\u001b[39m]] \u001b[38;5;241m=\u001b[39m i \u001b[38;5;66;03m# it sets the element at that index to 1.\u001b[39;00m\n\u001b[0;32m      7\u001b[0m \u001b[38;5;28;01mreturn\u001b[39;00m identity \u001b[38;5;66;03m# returns created list.\u001b[39;00m\n",
      "\u001b[1;31mNameError\u001b[0m: name 'size' is not defined"
     ]
    }
   ],
   "source": [
    "# This function create_custom_identity(size, value, index) creates a custom identity with a given size, value and index.\n",
    "def create_custom_identity(size, value, index):\n",
    "    identity = np.eye(size)  # Create a NumPy identity matrix of the specified size\n",
    "\n",
    "if 0 <= index[0] < size and 0 <= index [1] < size: # checks if index is within the valid range (0 to size-1) ELSE \n",
    "    identity[index[0], index[1]] = i # it sets the element at that index to 1.\n",
    "return identity # returns created list.\n",
    "\n",
    "i= int(input(\"Enter  value: \"))# this prompts the user to enter a value and stores it as an integer in the variable i.\n",
    "index= (1, 2)\n",
    "       \n",
    "twister = create_custom_identity(4, i, index)#this create_custom_identity(4, i, index) matrix calls the function with the three(3) arguments: size 4, filled with i (user input value)  and sets element at index 2 to 1. the Result is stored in Twister the variable{i.e Cstom identity matrix \n",
    "print (twister)# Prints Result(custom identity matrix)*"
   ]
  },
  {
   "cell_type": "markdown",
   "id": "dbf74f80",
   "metadata": {},
   "source": [
    "#CORRECTED CODE:"
   ]
  },
  {
   "cell_type": "code",
   "execution_count": 8,
   "id": "1160921c",
   "metadata": {},
   "outputs": [
    {
     "name": "stdout",
     "output_type": "stream",
     "text": [
      "Enter a value: 7\n",
      "[[1. 0. 0. 0.]\n",
      " [0. 1. 7. 0.]\n",
      " [0. 0. 1. 0.]\n",
      " [0. 0. 0. 1.]]\n"
     ]
    }
   ],
   "source": [
    "import numpy as np\n",
    "\n",
    "# This function creates a custom identity matrix\n",
    "def create_custom_identity(size, value, index):\n",
    "    \n",
    "        identity = np.eye(size)  # Creates a NumPy identity matrix of the specified size\n",
    "        \n",
    "        assert 0 <= index[0] < size and 0 <= index[1] < size, \"Index is not allocatted.\"# This line checks if index is within the valid range (0 to size-1) ELSE it prints \"Index is not allocatted \"\n",
    "    \n",
    "        identity[index[0], index[1]] = value  # Set the element at the given index to the specified value\n",
    "        return identity\n",
    "\n",
    "# Specify the index where value will be set to 1 (1-based indexing)\n",
    "index = (1, 2) \n",
    "\n",
    "# Prompt the user to enter a value\n",
    "i = int(input(\"Enter a value: \"))  # Converts Input value to integer\n",
    "\n",
    "# Create the custom identity matrix\n",
    "twister = create_custom_identity(4, i, index)\n",
    "\n",
    "# Print the result (custom identity matrix)\n",
    "print(twister)"
   ]
  },
  {
   "cell_type": "code",
   "execution_count": null,
   "id": "c1cbb89c",
   "metadata": {},
   "outputs": [],
   "source": []
  }
 ],
 "metadata": {
  "kernelspec": {
   "display_name": "Python 3 (ipykernel)",
   "language": "python",
   "name": "python3"
  },
  "language_info": {
   "codemirror_mode": {
    "name": "ipython",
    "version": 3
   },
   "file_extension": ".py",
   "mimetype": "text/x-python",
   "name": "python",
   "nbconvert_exporter": "python",
   "pygments_lexer": "ipython3",
   "version": "3.10.9"
  }
 },
 "nbformat": 4,
 "nbformat_minor": 5
}
