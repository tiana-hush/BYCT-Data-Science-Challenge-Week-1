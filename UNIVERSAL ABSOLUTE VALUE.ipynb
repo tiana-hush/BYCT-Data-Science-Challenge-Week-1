{
 "cells": [
  {
   "cell_type": "markdown",
   "id": "5dae6de1",
   "metadata": {},
   "source": [
    "# Q5: Universal Absolute Value:\n",
    "Define a function absolute_all(arr) that takes a NumPy array and returns a new array with all elements converted to their absolute values."
   ]
  },
  {
   "cell_type": "code",
   "execution_count": 13,
   "id": "7b34d966",
   "metadata": {},
   "outputs": [
    {
     "name": "stdout",
     "output_type": "stream",
     "text": [
      "Absolute Result:  [[4 7 0]\n",
      " [2 7 4]]\n"
     ]
    }
   ],
   "source": [
    "import numpy as np\n",
    "\n",
    "def absolute_all(arr): # This function takes a NumPy array and returns a new array with all elements converted to their absolute values.\n",
    "    return arr\n",
    "arr = np.random.randint(-0,8,size=(2,3)) # Generate a random NumPy arrray with values from 0-8, size 2X3.\n",
    "\n",
    "AR= np.abs(arr) # AR(Absolute Result) calculates the absolute values of all elements in the array.\n",
    "print(\"Absolute Result: \",AR)"
   ]
  },
  {
   "cell_type": "markdown",
   "id": "29830c43",
   "metadata": {},
   "source": [
    "#### "
   ]
  },
  {
   "cell_type": "code",
   "execution_count": null,
   "id": "8077f04f",
   "metadata": {},
   "outputs": [],
   "source": []
  }
 ],
 "metadata": {
  "kernelspec": {
   "display_name": "Python 3 (ipykernel)",
   "language": "python",
   "name": "python3"
  },
  "language_info": {
   "codemirror_mode": {
    "name": "ipython",
    "version": 3
   },
   "file_extension": ".py",
   "mimetype": "text/x-python",
   "name": "python",
   "nbconvert_exporter": "python",
   "pygments_lexer": "ipython3",
   "version": "3.10.9"
  }
 },
 "nbformat": 4,
 "nbformat_minor": 5
}
