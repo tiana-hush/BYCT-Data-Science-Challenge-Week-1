{
 "cells": [
  {
   "cell_type": "markdown",
   "id": "bd8c230d",
   "metadata": {},
   "source": [
    "# Q4:Flattening the Terrain:\n",
    "Write a function flatten_terrain(terrain_data) that takes a 3D NumPy array representing terrain data (e.g., height at each point) and returns a 2D NumPy array representing the flattened height map."
   ]
  },
  {
   "cell_type": "code",
   "execution_count": 1,
   "id": "8a4e7b6d",
   "metadata": {},
   "outputs": [
    {
     "name": "stdout",
     "output_type": "stream",
     "text": [
      "Flattened Terrain:\n",
      "[[[0.49738117 0.49738117 0.49738117 0.49738117 0.49738117]\n",
      "  [0.49738117 0.49738117 0.49738117 0.49738117 0.49738117]\n",
      "  [0.49738117 0.49738117 0.49738117 0.49738117 0.49738117]\n",
      "  [0.49738117 0.49738117 0.49738117 0.49738117 0.49738117]]\n",
      "\n",
      " [[0.49738117 0.49738117 0.49738117 0.49738117 0.49738117]\n",
      "  [0.49738117 0.49738117 0.49738117 0.49738117 0.49738117]\n",
      "  [0.49738117 0.49738117 0.49738117 0.49738117 0.49738117]\n",
      "  [0.49738117 0.49738117 0.49738117 0.49738117 0.49738117]]\n",
      "\n",
      " [[0.49738117 0.49738117 0.49738117 0.49738117 0.49738117]\n",
      "  [0.49738117 0.49738117 0.49738117 0.49738117 0.49738117]\n",
      "  [0.49738117 0.49738117 0.49738117 0.49738117 0.49738117]\n",
      "  [0.49738117 0.49738117 0.49738117 0.49738117 0.49738117]]]\n"
     ]
    }
   ],
   "source": [
    "import numpy as np\n",
    "\n",
    "def flatten_terrain(terrain_data):\n",
    "    # Calculate the average height of the terrain\n",
    "    average_height = np.mean(terrain_data)\n",
    "    \n",
    "    # Create a new terrain where all points have the average height\n",
    "    flattened_terrain = np.full_like(terrain_data, average_height)\n",
    "    \n",
    "    return flattened_terrain\n",
    "\n",
    "#Test\n",
    "terrain_data = np.random.rand(3, 4, 5)  # Replace with your actual terrain data\n",
    "flattened = flatten_terrain(terrain_data)\n",
    "print(\"Flattened Terrain:\")\n",
    "print(flattened)"
   ]
  }
 ],
 "metadata": {
  "kernelspec": {
   "display_name": "Python 3 (ipykernel)",
   "language": "python",
   "name": "python3"
  },
  "language_info": {
   "codemirror_mode": {
    "name": "ipython",
    "version": 3
   },
   "file_extension": ".py",
   "mimetype": "text/x-python",
   "name": "python",
   "nbconvert_exporter": "python",
   "pygments_lexer": "ipython3",
   "version": "3.10.9"
  }
 },
 "nbformat": 4,
 "nbformat_minor": 5
}
